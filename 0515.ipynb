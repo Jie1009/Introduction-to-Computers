{
  "nbformat": 4,
  "nbformat_minor": 0,
  "metadata": {
    "colab": {
      "provenance": [],
      "authorship_tag": "ABX9TyMWIh584PFWCBydeK8s07p/",
      "include_colab_link": true
    },
    "kernelspec": {
      "name": "python3",
      "display_name": "Python 3"
    },
    "language_info": {
      "name": "python"
    }
  },
  "cells": [
    {
      "cell_type": "markdown",
      "metadata": {
        "id": "view-in-github",
        "colab_type": "text"
      },
      "source": [
        "<a href=\"https://colab.research.google.com/github/Jie1009/Introduction-to-Computers/blob/main/0515.ipynb\" target=\"_parent\"><img src=\"https://colab.research.google.com/assets/colab-badge.svg\" alt=\"Open In Colab\"/></a>"
      ]
    },
    {
      "cell_type": "code",
      "execution_count": 3,
      "metadata": {
        "colab": {
          "base_uri": "https://localhost:8080/"
        },
        "id": "m9HB2T-fQmdl",
        "outputId": "952a4d16-be0a-4953-9ae7-579a7625050a"
      },
      "outputs": [
        {
          "output_type": "stream",
          "name": "stdout",
          "text": [
            "今天會下雨嗎?s\n",
            "請重新輸入\n"
          ]
        }
      ],
      "source": [
        "rain = input(\"今天會下雨嗎?\")\n",
        "if(rain == \"Y\" or rain == \"y\"):\n",
        "  print(\"出門記得帶傘!\")\n",
        "else:\n",
        "  print(\"請重新輸入\")\n"
      ]
    },
    {
      "cell_type": "code",
      "source": [
        "溫度 = float(input(\"請輸入體溫:\"))\n",
        "if 溫度 >= 34 and 溫度 <= 36.9:\n",
        "   print(\"體溫正常!\")\n",
        "elif 溫度 >= 37.5:\n",
        "   print(\"體溫過高!\")\n",
        "elif 溫度 >= 37 and 溫度 <=37.4:   \n",
        "   print(\"體溫略高!\")\n",
        "else:\n",
        "   print(\"體溫異常，請重新量測!\")"
      ],
      "metadata": {
        "colab": {
          "base_uri": "https://localhost:8080/"
        },
        "id": "oz6ubIobTme-",
        "outputId": "d95d160e-5898-43a6-a9b1-d03fe8bc6361"
      },
      "execution_count": 7,
      "outputs": [
        {
          "output_type": "stream",
          "name": "stdout",
          "text": [
            "請輸入體溫:36.5\n",
            "體溫正常!\n"
          ]
        }
      ]
    },
    {
      "cell_type": "code",
      "source": [
        "score = int(input(\"score: \"))\n",
        "if score >= 90:\n",
        "   print('A')\n",
        "elif score >= 80:\n",
        "   print('B')\n",
        "elif score >= 70:\n",
        "   print('C')\n",
        "elif score >= 60:\n",
        "   print('D')\n",
        "else:\n",
        "  print('E')"
      ],
      "metadata": {
        "colab": {
          "base_uri": "https://localhost:8080/"
        },
        "id": "k_Og4Nr4TmlC",
        "outputId": "569a122a-9cab-4af9-b5ba-121994bc5f24"
      },
      "execution_count": null,
      "outputs": [
        {
          "output_type": "stream",
          "name": "stdout",
          "text": [
            "score: 90\n",
            "A\n"
          ]
        }
      ]
    },
    {
      "cell_type": "code",
      "source": [
        "score = int(input(\"score: \"))\n",
        "if score >= 90:\n",
        "   print('A')\n",
        "elif score >= 80:\n",
        "   print('B')\n",
        "elif score >= 70:\n",
        "   print('C')\n",
        "elif score >= 60:\n",
        "   print('D')\n",
        "else:\n",
        "  print('E')"
      ],
      "metadata": {
        "colab": {
          "base_uri": "https://localhost:8080/"
        },
        "id": "FTfQ7S9-fqZC",
        "outputId": "ca56b828-79e9-41ed-88ea-6c80a9299af8"
      },
      "execution_count": null,
      "outputs": [
        {
          "output_type": "stream",
          "name": "stdout",
          "text": [
            "score: 80\n",
            "B\n"
          ]
        }
      ]
    },
    {
      "cell_type": "code",
      "source": [
        "score = int(input(\"score: \"))\n",
        "if score >= 90:\n",
        "   print('A')\n",
        "elif score >= 80:\n",
        "   print('B')\n",
        "elif score >= 70:\n",
        "   print('C')\n",
        "elif score >= 60:\n",
        "   print('D')\n",
        "else:\n",
        "  print('E')"
      ],
      "metadata": {
        "colab": {
          "base_uri": "https://localhost:8080/"
        },
        "id": "UjzBoVd0fqSI",
        "outputId": "df503c17-03d6-4005-c7b1-f000874502fb"
      },
      "execution_count": null,
      "outputs": [
        {
          "output_type": "stream",
          "name": "stdout",
          "text": [
            "score: 50\n",
            "E\n"
          ]
        }
      ]
    },
    {
      "cell_type": "code",
      "source": [
        "x = int(input(\"請輸入月份：\"))\n",
        "if x==3 or x==4 or x==5:\n",
        "  print(x ,\"月是春天!\")\n",
        "elif x==6 or x==7 or x==8:\n",
        "  print(x ,\"月是夏天!\")\n",
        "elif x==9 or x==10 or x==11:\n",
        "  print(x ,\"月是秋天!\")\n",
        "elif x == 12 or  x <= 2 and x >= 1 :\n",
        "  print(x ,\"月是冬天!\")\n",
        "else:\n",
        "  print(\"月份不在範圍內!\")"
      ],
      "metadata": {
        "colab": {
          "base_uri": "https://localhost:8080/"
        },
        "id": "nVi1FvrwTmro",
        "outputId": "0115663c-11fd-4f09-91b9-5a8efccc7421"
      },
      "execution_count": 9,
      "outputs": [
        {
          "output_type": "stream",
          "name": "stdout",
          "text": [
            "請輸入月份：6\n",
            "6 月是夏天!\n"
          ]
        }
      ]
    },
    {
      "cell_type": "code",
      "source": [
        "r = int(input(\"請輸入今年收入淨額:\"))\n",
        "if r >= 2000000:\n",
        "    print(\"付稅金額:\", r * 0.3 ,\"元\")\n",
        "elif r >= 1000000:\n",
        "    print(\"付稅金額:\", r * 0.21 ,\"元\")\n",
        "elif r >= 600000:\n",
        "    print(\"付稅金額:\", r * 0.13 ,\"元\")\n",
        "elif r >= 300000:\n",
        "    print(\"付稅金額:\", r * 0.06 ,\"元\")\n",
        "else:\n",
        "    print(\"付稅金額:\", 0 ,\"元\")"
      ],
      "metadata": {
        "id": "63FxQkgBTmwf",
        "colab": {
          "base_uri": "https://localhost:8080/"
        },
        "outputId": "4f4f3298-54f0-41d7-89b1-6eba11c46a5e"
      },
      "execution_count": 10,
      "outputs": [
        {
          "output_type": "stream",
          "name": "stdout",
          "text": [
            "請輸入今年收入淨額:100000\n",
            "付稅金額: 0 元\n"
          ]
        }
      ]
    },
    {
      "cell_type": "code",
      "source": [
        "r = int(input(\"請輸入今年收入淨額:\"))\n",
        "if r >= 2000000:\n",
        "    print(\"付稅金額:\", r * 0.3 ,\"元\")\n",
        "elif r >= 1000000:\n",
        "    print(\"付稅金額:\", r * 0.21 ,\"元\")\n",
        "elif r >= 600000:\n",
        "    print(\"付稅金額:\", r * 0.13 ,\"元\")\n",
        "elif r >= 300000:\n",
        "    print(\"付稅金額:\", r * 0.06 ,\"元\")\n",
        "else:\n",
        "    print(\"付稅金額:\", 0 ,\"元\")"
      ],
      "metadata": {
        "id": "YWlxmIwCbr2d",
        "colab": {
          "base_uri": "https://localhost:8080/"
        },
        "outputId": "c4a3a63c-0eb4-456c-89a7-c0dee34b1d71"
      },
      "execution_count": 11,
      "outputs": [
        {
          "output_type": "stream",
          "name": "stdout",
          "text": [
            "請輸入今年收入淨額:2000000\n",
            "付稅金額: 600000.0 元\n"
          ]
        }
      ]
    },
    {
      "cell_type": "code",
      "source": [],
      "metadata": {
        "id": "r3jDsnocbsBM"
      },
      "execution_count": null,
      "outputs": []
    }
  ]
}